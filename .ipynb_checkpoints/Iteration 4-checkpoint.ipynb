{
 "cells": [
  {
   "cell_type": "code",
   "execution_count": 1,
   "id": "bb967452",
   "metadata": {},
   "outputs": [
    {
     "name": "stderr",
     "output_type": "stream",
     "text": [
      "WARNING: An illegal reflective access operation has occurred\n",
      "WARNING: Illegal reflective access by org.apache.spark.unsafe.Platform (file:/home/ubuntu/.local/lib/python3.10/site-packages/pyspark/jars/spark-unsafe_2.12-3.2.1.jar) to constructor java.nio.DirectByteBuffer(long,int)\n",
      "WARNING: Please consider reporting this to the maintainers of org.apache.spark.unsafe.Platform\n",
      "WARNING: Use --illegal-access=warn to enable warnings of further illegal reflective access operations\n",
      "WARNING: All illegal access operations will be denied in a future release\n",
      "Using Spark's default log4j profile: org/apache/spark/log4j-defaults.properties\n",
      "Setting default log level to \"WARN\".\n",
      "To adjust logging level use sc.setLogLevel(newLevel). For SparkR, use setLogLevel(newLevel).\n",
      "23/10/12 12:45:54 WARN NativeCodeLoader: Unable to load native-hadoop library for your platform... using builtin-java classes where applicable\n"
     ]
    }
   ],
   "source": [
    "#importing modules\n",
    "import findspark\n",
    "# findspark.init('/home/ubuntu/spark-3.2.1-bin-hadoop2.7')\n",
    "import pyspark\n",
    "from pyspark.sql import SparkSession\n",
    "from pyspark.sql.functions import col, count, sum\n",
    "spark = SparkSession.builder.appName('iteration4').getOrCreate()"
   ]
  },
  {
   "cell_type": "markdown",
   "id": "6191a3a5",
   "metadata": {},
   "source": [
    "## 2. Data"
   ]
  },
  {
   "cell_type": "code",
   "execution_count": 2,
   "id": "8b8655c7",
   "metadata": {},
   "outputs": [],
   "source": [
    "#importing file \n",
    "df = spark.read.csv('heart_disease_health_indicators_BRFSS2015.csv', header=True)"
   ]
  },
  {
   "cell_type": "code",
   "execution_count": 3,
   "id": "225e3e4a",
   "metadata": {
    "scrolled": true
   },
   "outputs": [
    {
     "name": "stdout",
     "output_type": "stream",
     "text": [
      "Number of columns: 22\n",
      "Number of rows: 253680\n"
     ]
    }
   ],
   "source": [
    "#getting number of rows and columns\n",
    "print(\"Number of columns:\", len(df.columns))\n",
    "print(\"Number of rows:\", df.count())"
   ]
  },
  {
   "cell_type": "code",
   "execution_count": 4,
   "id": "6de976cf",
   "metadata": {},
   "outputs": [
    {
     "name": "stdout",
     "output_type": "stream",
     "text": [
      "root\n",
      " |-- HeartDiseaseorAttack: string (nullable = true)\n",
      " |-- HighBP: string (nullable = true)\n",
      " |-- HighChol: string (nullable = true)\n",
      " |-- CholCheck: string (nullable = true)\n",
      " |-- BMI: string (nullable = true)\n",
      " |-- Smoker: string (nullable = true)\n",
      " |-- Stroke: string (nullable = true)\n",
      " |-- Diabetes: string (nullable = true)\n",
      " |-- PhysActivity: string (nullable = true)\n",
      " |-- Fruits: string (nullable = true)\n",
      " |-- Veggies: string (nullable = true)\n",
      " |-- HvyAlcoholConsump: string (nullable = true)\n",
      " |-- AnyHealthcare: string (nullable = true)\n",
      " |-- NoDocbcCost: string (nullable = true)\n",
      " |-- GenHlth: string (nullable = true)\n",
      " |-- MentHlth: string (nullable = true)\n",
      " |-- PhysHlth: string (nullable = true)\n",
      " |-- DiffWalk: string (nullable = true)\n",
      " |-- Sex: string (nullable = true)\n",
      " |-- Age: string (nullable = true)\n",
      " |-- Education: string (nullable = true)\n",
      " |-- Income: string (nullable = true)\n",
      "\n"
     ]
    }
   ],
   "source": [
    "df.printSchema()"
   ]
  },
  {
   "cell_type": "code",
   "execution_count": 5,
   "id": "bbe36f4f",
   "metadata": {},
   "outputs": [
    {
     "name": "stderr",
     "output_type": "stream",
     "text": [
      "                                                                                \r"
     ]
    },
    {
     "name": "stdout",
     "output_type": "stream",
     "text": [
      "Null count in 'HeartDiseaseorAttack': 0\n",
      "Null count in 'HighBP': 0\n",
      "Null count in 'HighChol': 0\n",
      "Null count in 'CholCheck': 0\n",
      "Null count in 'BMI': 0\n",
      "Null count in 'Smoker': 0\n",
      "Null count in 'Stroke': 0\n",
      "Null count in 'Diabetes': 0\n",
      "Null count in 'PhysActivity': 0\n",
      "Null count in 'Fruits': 0\n",
      "Null count in 'Veggies': 0\n",
      "Null count in 'HvyAlcoholConsump': 0\n",
      "Null count in 'AnyHealthcare': 0\n",
      "Null count in 'NoDocbcCost': 0\n",
      "Null count in 'GenHlth': 0\n",
      "Null count in 'MentHlth': 0\n",
      "Null count in 'PhysHlth': 0\n",
      "Null count in 'DiffWalk': 0\n",
      "Null count in 'Sex': 0\n",
      "Null count in 'Age': 0\n",
      "Null count in 'Education': 0\n",
      "Null count in 'Income': 0\n"
     ]
    }
   ],
   "source": [
    "#checking data for null values\n",
    "null_counts = [df.select(sum(col(c).isNull().cast(\"int\")).alias(c)).collect()[0][0] for c in df.columns]\n",
    "\n",
    "for col_name, null_count in zip(df.columns, null_counts):\n",
    "    print(f\"Null count in '{col_name}': {null_count}\")"
   ]
  },
  {
   "cell_type": "code",
   "execution_count": 6,
   "id": "f222d026",
   "metadata": {},
   "outputs": [
    {
     "name": "stderr",
     "output_type": "stream",
     "text": [
      "\r",
      "[Stage 70:=============================>                            (1 + 1) / 2]\r",
      "\r",
      "                                                                                \r"
     ]
    },
    {
     "name": "stdout",
     "output_type": "stream",
     "text": [
      "HeartDiseaseorAttack: ['0', '1']\n",
      "HighBP: ['0', '1']\n",
      "HighChol: ['0', '1']\n",
      "CholCheck: ['0', '1']\n",
      "BMI: ['51', '54', '15', '29', '69', '42', '73', '87', '64', '30', '34', '59', '28', '22', '85', '35', '16', '52', '71', '98', '47', '96', '43', '31', '18', '70', '27', '61', '75', '17', '26', '46', '77', '89', '60', '68', '90', '19', '23', '41', '55', '95', '40', '38', '25', '44', '82', '53', '92', '86', '58', '81', '33', '48', '67', '84', '79', '24', '32', '88', '20', '56', '36', '37', '49', '63', '65', '39', '62', '12', '83', '13', '21', '14', '66', '91', '74', '72', '76', '80', '50', '45', '57', '78']\n",
      "Smoker: ['0', '1']\n",
      "Stroke: ['0', '1']\n",
      "Diabetes: ['0', '1', '2']\n",
      "PhysActivity: ['0', '1']\n",
      "Fruits: ['0', '1']\n",
      "Veggies: ['0', '1']\n",
      "HvyAlcoholConsump: ['0', '1']\n",
      "AnyHealthcare: ['0', '1']\n",
      "NoDocbcCost: ['0', '1']\n",
      "GenHlth: ['3', '5', '1', '4', '2']\n",
      "MentHlth: ['7', '15', '11', '29', '3', '30', '8', '28', '22', '16', '0', '5', '18', '27', '17', '26', '6', '19', '23', '25', '24', '9', '1', '20', '10', '4', '12', '13', '21', '14', '2']\n",
      "PhysHlth: ['7', '15', '11', '29', '3', '30', '8', '28', '22', '16', '0', '5', '18', '27', '17', '26', '6', '19', '23', '25', '24', '9', '1', '20', '10', '4', '12', '13', '14', '21', '2']\n",
      "DiffWalk: ['0', '1']\n",
      "Sex: ['0', '1']\n",
      "Age: ['7', '11', '3', '8', '5', '6', '9', '1', '10', '4', '12', '13', '2']\n",
      "Education: ['3', '5', '6', '1', '4', '2']\n",
      "Income: ['7', '3', '8', '5', '6', '1', '4', '2']\n"
     ]
    }
   ],
   "source": [
    "#checking unique values\n",
    "unique_values = {}\n",
    "\n",
    "for col_name in df.columns:\n",
    "    values = [str(row[col_name]) for row in df.select(col_name).distinct().collect()]\n",
    "    unique_values[col_name] = values\n",
    "\n",
    "for column, values in unique_values.items():\n",
    "    print(f\"{column}: {values}\")"
   ]
  },
  {
   "cell_type": "code",
   "execution_count": 7,
   "id": "12e7db91",
   "metadata": {},
   "outputs": [
    {
     "data": {
      "image/png": "[encoded data removed]",
      "text/plain": [
       "<Figure size 432x288 with 1 Axes>"
      ]
     },
     "metadata": {
      "needs_background": "light"
     },
     "output_type": "display_data"
    }
   ],
   "source": [
    "#distribution chart of heart disease    \n",
    "category_counts = df.groupBy('HeartDiseaseorAttack').count().toPandas()\n",
    "\n",
    "import matplotlib.pyplot as plt\n",
    "\n",
    "#plotting the bar chart\n",
    "colors = ['green', 'darkred']\n",
    "plt.bar(category_counts['HeartDiseaseorAttack'].astype(str), category_counts['count'], color=colors)\n",
    "plt.xlabel('Heart Disease')\n",
    "plt.ylabel('Count')\n",
    "plt.title('Bar Chart of Heart Disease')\n",
    "plt.xticks(category_counts['HeartDiseaseorAttack'].astype(str), ['0', '1'])\n",
    "plt.show()"
   ]
  },
  {
   "cell_type": "code",
   "execution_count": 8,
   "id": "a26f99df",
   "metadata": {},
   "outputs": [],
   "source": [
    "#bmi boxplot"
   ]
  },
  {
   "cell_type": "markdown",
   "id": "6f3d4e7e",
   "metadata": {},
   "source": [
    "## 3. Data Preparation"
   ]
  },
  {
   "cell_type": "code",
   "execution_count": 9,
   "id": "31e184e4",
   "metadata": {},
   "outputs": [
    {
     "name": "stderr",
     "output_type": "stream",
     "text": [
      "\r",
      "[Stage 147:============================>                            (1 + 1) / 2]\r",
      "\r",
      "                                                                                \r"
     ]
    },
    {
     "data": {
      "image/png": "[encoded data removed]",
      "text/plain": [
       "<Figure size 720x432 with 1 Axes>"
      ]
     },
     "metadata": {
      "needs_background": "light"
     },
     "output_type": "display_data"
    },
    {
     "data": {
      "image/png": "[encoded data removed]",
      "text/plain": [
       "<Figure size 720x432 with 1 Axes>"
      ]
     },
     "metadata": {
      "needs_background": "light"
     },
     "output_type": "display_data"
    }
   ],
   "source": [
    "#generating bar chart of income vs heart disease    \n",
    "education_counts = df.groupBy('Income').count().orderBy('Income').toPandas()\n",
    "heart_disease_counts = df.filter(df['HeartDiseaseorAttack'] == 1).groupBy('Income').count().orderBy('Income').toPandas()\n",
    "fig, ax = plt.subplots(figsize=(10, 6))\n",
    "ax.bar(education_counts['Income'], education_counts['count'], color='green', label='Total')\n",
    "ax.bar(heart_disease_counts['Income'], heart_disease_counts['count'], color='darkred', label='Heart Disease Positive')\n",
    "ax.set_xlabel('Income')\n",
    "ax.set_ylabel('Count')\n",
    "ax.set_title('Bar Chart of Income vs Heart Disease')\n",
    "ax.legend(title='HeartDiseaseorAttack', labels=['0', '1'])\n",
    "plt.show()\n",
    "\n",
    "#generating bar chart of education vs heart disease  \n",
    "education_counts = df.groupBy('Education').count().orderBy('Education').toPandas()\n",
    "heart_disease_counts = df.filter(df['HeartDiseaseorAttack'] == 1).groupBy('Education').count().orderBy('Education').toPandas()\n",
    "fig, ax = plt.subplots(figsize=(10, 6))\n",
    "ax.bar(education_counts['Education'], education_counts['count'], color='green', label='Total')\n",
    "ax.bar(heart_disease_counts['Education'], heart_disease_counts['count'], color='darkred', label='Heart Disease Positive')\n",
    "ax.set_xlabel('Education')\n",
    "ax.set_ylabel('Count')\n",
    "ax.set_title('Bar Chart of Education vs Heart Disease')\n",
    "ax.legend(title='HeartDiseaseorAttack', labels=['0', '1'])\n",
    "plt.show()"
   ]
  },
  {
   "cell_type": "code",
   "execution_count": 10,
   "id": "94d8632a",
   "metadata": {},
   "outputs": [
    {
     "name": "stdout",
     "output_type": "stream",
     "text": [
      "root\n",
      " |-- HeartDiseaseorAttack: string (nullable = true)\n",
      " |-- HighBP: string (nullable = true)\n",
      " |-- HighChol: string (nullable = true)\n",
      " |-- CholCheck: string (nullable = true)\n",
      " |-- BMI: string (nullable = true)\n",
      " |-- Smoker: string (nullable = true)\n",
      " |-- Stroke: string (nullable = true)\n",
      " |-- Diabetes: string (nullable = true)\n",
      " |-- PhysActivity: string (nullable = true)\n",
      " |-- Fruits: string (nullable = true)\n",
      " |-- Veggies: string (nullable = true)\n",
      " |-- HvyAlcoholConsump: string (nullable = true)\n",
      " |-- AnyHealthcare: string (nullable = true)\n",
      " |-- NoDocbcCost: string (nullable = true)\n",
      " |-- GenHlth: string (nullable = true)\n",
      " |-- MentHlth: string (nullable = true)\n",
      " |-- PhysHlth: string (nullable = true)\n",
      " |-- DiffWalk: string (nullable = true)\n",
      " |-- Sex: string (nullable = true)\n",
      " |-- Age: string (nullable = true)\n",
      "\n"
     ]
    }
   ],
   "source": [
    "#dropping columns\n",
    "columns = ['Education', 'Income']  \n",
    "df1 = df.drop(*columns)\n",
    "\n",
    "df1.printSchema()"
   ]
  },
  {
   "cell_type": "code",
   "execution_count": 11,
   "id": "192efb88",
   "metadata": {},
   "outputs": [
    {
     "name": "stdout",
     "output_type": "stream",
     "text": [
      "root\n",
      " |-- HeartDiseaseorAttack: string (nullable = true)\n",
      " |-- HighBP: string (nullable = true)\n",
      " |-- HighChol: string (nullable = true)\n",
      " |-- CholCheck: string (nullable = true)\n",
      " |-- BMI: string (nullable = true)\n",
      " |-- Smoker: string (nullable = true)\n",
      " |-- Stroke: string (nullable = true)\n",
      " |-- Diabetes: string (nullable = true)\n",
      " |-- PhysActivity: string (nullable = true)\n",
      " |-- Fruits: string (nullable = true)\n",
      " |-- Veggies: string (nullable = true)\n",
      " |-- HvyAlcoholConsump: string (nullable = true)\n",
      " |-- AnyHealthcare: string (nullable = true)\n",
      " |-- NoDocDueToCost: string (nullable = true)\n",
      " |-- GenHlth: string (nullable = true)\n",
      " |-- MentHlth: string (nullable = true)\n",
      " |-- PhysHlth: string (nullable = true)\n",
      " |-- DifficultyWalking: string (nullable = true)\n",
      " |-- Sex: string (nullable = true)\n",
      " |-- Age_category: string (nullable = true)\n",
      "\n"
     ]
    }
   ],
   "source": [
    "#renaming columns\n",
    "df2 = df1.withColumnRenamed('Age', 'Age_category') \\\n",
    "          .withColumnRenamed('NoDocbcCost', 'NoDocDueToCost') \\\n",
    "          .withColumnRenamed('DiffWalk', 'DifficultyWalking')\n",
    "\n",
    "df2.printSchema()"
   ]
  },
  {
   "cell_type": "code",
   "execution_count": 12,
   "id": "453cdbb6",
   "metadata": {},
   "outputs": [
    {
     "name": "stdout",
     "output_type": "stream",
     "text": [
      "+--------+\n",
      "|Diabetes|\n",
      "+--------+\n",
      "|       0|\n",
      "|       0|\n",
      "|       0|\n",
      "|       0|\n",
      "|       0|\n",
      "|       0|\n",
      "|       0|\n",
      "|       0|\n",
      "|  Type 2|\n",
      "|       0|\n",
      "|  Type 2|\n",
      "|       0|\n",
      "|       0|\n",
      "|  Type 2|\n",
      "|       0|\n",
      "|       0|\n",
      "|       0|\n",
      "|  Type 2|\n",
      "|       0|\n",
      "|       0|\n",
      "+--------+\n",
      "only showing top 20 rows\n",
      "\n"
     ]
    }
   ],
   "source": [
    "#replacing values in diabetes column\n",
    "from pyspark.sql.functions import when\n",
    "replacement_mapping = {1: 'Type 1', 2: 'Type 2'}\n",
    "\n",
    "for key, value in replacement_mapping.items():\n",
    "    df2 = df2.withColumn('Diabetes', when(col('Diabetes') == key, value).otherwise(col('Diabetes')))\n",
    "\n",
    "df2.select('Diabetes').show()"
   ]
  },
  {
   "cell_type": "code",
   "execution_count": 13,
   "id": "97bb50df",
   "metadata": {},
   "outputs": [
    {
     "name": "stdout",
     "output_type": "stream",
     "text": [
      "+------+\n",
      "|   Sex|\n",
      "+------+\n",
      "|Female|\n",
      "|Female|\n",
      "|Female|\n",
      "|Female|\n",
      "|Female|\n",
      "|  Male|\n",
      "|Female|\n",
      "|Female|\n",
      "|Female|\n",
      "|  Male|\n",
      "|  Male|\n",
      "|Female|\n",
      "|Female|\n",
      "|Female|\n",
      "|Female|\n",
      "|Female|\n",
      "|Female|\n",
      "|  Male|\n",
      "|Female|\n",
      "|  Male|\n",
      "+------+\n",
      "only showing top 20 rows\n",
      "\n"
     ]
    }
   ],
   "source": [
    "#replacing values in sex column\n",
    "from pyspark.sql.functions import when\n",
    "replacement_mapping = {0: 'Female', 1: 'Male'}\n",
    "\n",
    "for key, value in replacement_mapping.items():\n",
    "    df2 = df2.withColumn('Sex', when(col('Sex') == key, value).otherwise(col('Sex')))\n",
    "\n",
    "df2.select('Sex').show()"
   ]
  },
  {
   "cell_type": "code",
   "execution_count": 14,
   "id": "67fb95d8",
   "metadata": {},
   "outputs": [
    {
     "name": "stdout",
     "output_type": "stream",
     "text": [
      "+-------+\n",
      "|GenHlth|\n",
      "+-------+\n",
      "|   Poor|\n",
      "| Normal|\n",
      "|   Poor|\n",
      "|   Good|\n",
      "|   Good|\n",
      "|   Good|\n",
      "| Normal|\n",
      "| Normal|\n",
      "|   Poor|\n",
      "|   Good|\n",
      "| Normal|\n",
      "| Normal|\n",
      "| Normal|\n",
      "|   Poor|\n",
      "|   Poor|\n",
      "|   Good|\n",
      "| Normal|\n",
      "|   Good|\n",
      "|   Good|\n",
      "|   Good|\n",
      "+-------+\n",
      "only showing top 20 rows\n",
      "\n"
     ]
    }
   ],
   "source": [
    "#categorizing general health\n",
    "categories = {1: 'Good', 2: 'Good', 3: 'Normal', 4: 'Poor', 5: 'Poor'}\n",
    "\n",
    "for key, value in categories.items():\n",
    "    df2 = df2.withColumn('GenHlth', when(col('GenHlth') == key, value).otherwise(col('GenHlth')))\n",
    "\n",
    "df2.select('GenHlth').show()"
   ]
  },
  {
   "cell_type": "code",
   "execution_count": 15,
   "id": "36aeea3c",
   "metadata": {},
   "outputs": [
    {
     "name": "stdout",
     "output_type": "stream",
     "text": [
      "+--------+\n",
      "|PhysHlth|\n",
      "+--------+\n",
      "|    Good|\n",
      "|    Poor|\n",
      "|  Normal|\n",
      "+--------+\n",
      "\n",
      "+-------+\n",
      "|GenHlth|\n",
      "+-------+\n",
      "|   Good|\n",
      "|   Poor|\n",
      "| Normal|\n",
      "+-------+\n",
      "\n"
     ]
    }
   ],
   "source": [
    "#categorizing physical and mental health\n",
    "mapping = {\n",
    "    (0, 7): 'Good',\n",
    "    (7, 12): 'Normal',\n",
    "    (12, 31): 'Poor'\n",
    "}\n",
    "\n",
    "for key, value in mapping.items():\n",
    "    df2 = df2.withColumn('PhysHlth', when((col('PhysHlth') >= key[0]) & (col('PhysHlth') < key[1]), value).otherwise(col('PhysHlth')))\n",
    "\n",
    "for key, value in mapping.items():\n",
    "    df2 = df2.withColumn('MentHlth', when((col('MentHlth') >= key[0]) & (col('MentHlth') < key[1]), value).otherwise(col('MentHlth')))\n",
    "\n",
    "df2.select('PhysHlth').distinct().show()\n",
    "df2.select('GenHlth').distinct().show()"
   ]
  },
  {
   "cell_type": "code",
   "execution_count": 16,
   "id": "8cbf5091",
   "metadata": {},
   "outputs": [
    {
     "name": "stdout",
     "output_type": "stream",
     "text": [
      "+-----------+\n",
      "|        BMI|\n",
      "+-----------+\n",
      "| Overweight|\n",
      "|Underweight|\n",
      "|      Obese|\n",
      "|    Healthy|\n",
      "+-----------+\n",
      "\n"
     ]
    }
   ],
   "source": [
    "#categorizing BMI\n",
    "mapping = {\n",
    "    (0, 19): 'Underweight',\n",
    "    (19, 25): 'Healthy',\n",
    "    (25, 30): 'Overweight',\n",
    "    (30, 150): 'Obese'\n",
    "}\n",
    "\n",
    "for key, value in mapping.items():\n",
    "    df2 = df2.withColumn('BMI', when((col('BMI') >= key[0]) & (col('BMI') < key[1]), value).otherwise(col('BMI')))\n",
    "\n",
    "df2.select('BMI').distinct().show()    "
   ]
  },
  {
   "cell_type": "code",
   "execution_count": 17,
   "id": "8a1fede5",
   "metadata": {},
   "outputs": [
    {
     "name": "stdout",
     "output_type": "stream",
     "text": [
      "HeartDiseaseorAttack: ['0', '1']\n",
      "HighBP: ['0', '1']\n",
      "HighChol: ['0', '1']\n",
      "CholCheck: ['0', '1']\n",
      "BMI: ['Overweight', 'Underweight', 'Obese', 'Healthy']\n",
      "Smoker: ['0', '1']\n",
      "Stroke: ['0', '1']\n",
      "Diabetes: ['0', 'Type 1', 'Type 2']\n",
      "PhysActivity: ['0', '1']\n",
      "Fruits: ['0', '1']\n",
      "Veggies: ['0', '1']\n",
      "HvyAlcoholConsump: ['0', '1']\n",
      "AnyHealthcare: ['0', '1']\n",
      "NoDocDueToCost: ['0', '1']\n",
      "GenHlth: ['Good', 'Poor', 'Normal']\n",
      "MentHlth: ['Good', 'Poor', 'Normal']\n",
      "PhysHlth: ['Good', 'Poor', 'Normal']\n",
      "DifficultyWalking: ['0', '1']\n",
      "Sex: ['Female', 'Male']\n",
      "Age_category: ['7', '11', '3', '8', '5', '6', '9', '1', '10', '4', '12', '13', '2']\n"
     ]
    }
   ],
   "source": [
    "#checking unique values to confirm changes for all columns\n",
    "unique_values = {}\n",
    "\n",
    "for col_name in df2.columns:\n",
    "    values = [str(row[col_name]) for row in df2.select(col_name).distinct().collect()]\n",
    "    unique_values[col_name] = values\n",
    "\n",
    "for column, values in unique_values.items():\n",
    "    print(f\"{column}: {values}\")"
   ]
  },
  {
   "cell_type": "code",
   "execution_count": 18,
   "id": "6fcca067",
   "metadata": {},
   "outputs": [
    {
     "name": "stdout",
     "output_type": "stream",
     "text": [
      "Part 1 -\n",
      "Number of columns: 20\n",
      "Number of rows: 126840\n",
      "Part 2 -\n",
      "Number of columns: 20\n"
     ]
    },
    {
     "name": "stderr",
     "output_type": "stream",
     "text": [
      "[Stage 254:>                                                        (0 + 2) / 2]\r"
     ]
    },
    {
     "name": "stdout",
     "output_type": "stream",
     "text": [
      "Number of rows: 126840\n"
     ]
    },
    {
     "name": "stderr",
     "output_type": "stream",
     "text": [
      "\r",
      "                                                                                \r"
     ]
    }
   ],
   "source": [
    "#splitting excel files\n",
    "half_rows = df2.count() // 2\n",
    "\n",
    "part1 = df2.limit(half_rows)\n",
    "part2 = df2.exceptAll(part1)\n",
    "\n",
    "#getting number of rows and columns\n",
    "print(\"Part 1 -\")\n",
    "print(\"Number of columns:\", len(part1.columns))\n",
    "print(\"Number of rows:\", part1.count())\n",
    "\n",
    "#getting number of rows and columns\n",
    "print(\"Part 2 -\")\n",
    "print(\"Number of columns:\", len(part2.columns))\n",
    "print(\"Number of rows:\", part2.count())"
   ]
  },
  {
   "cell_type": "code",
   "execution_count": 19,
   "id": "aa8b9215",
   "metadata": {},
   "outputs": [
    {
     "name": "stderr",
     "output_type": "stream",
     "text": [
      "                                                                                \r"
     ]
    }
   ],
   "source": [
    "#creating the excel files and integrating \n",
    "part1.write.csv('part1.csv', header=True, mode='overwrite')\n",
    "part2.write.csv('part2.csv', header=True, mode='overwrite')\n",
    "\n",
    "part1read = spark.read.csv('part1.csv', header=True, inferSchema=True)\n",
    "part2read = spark.read.csv('part2.csv', header=True, inferSchema=True)\n",
    "\n",
    "df3 = part1read.union(part2read)"
   ]
  },
  {
   "cell_type": "code",
   "execution_count": 20,
   "id": "3c3f62c4",
   "metadata": {},
   "outputs": [
    {
     "name": "stdout",
     "output_type": "stream",
     "text": [
      "Number of columns: 20\n",
      "Number of rows: 253680\n"
     ]
    }
   ],
   "source": [
    "#getting number of rows and columns\n",
    "print(\"Number of columns:\", len(df3.columns))\n",
    "print(\"Number of rows:\", df3.count())"
   ]
  },
  {
   "cell_type": "code",
   "execution_count": 21,
   "id": "a9aab7c1",
   "metadata": {},
   "outputs": [
    {
     "name": "stderr",
     "output_type": "stream",
     "text": [
      "                                                                                \r"
     ]
    },
    {
     "name": "stdout",
     "output_type": "stream",
     "text": [
      "Number of columns: 20\n",
      "Number of rows: 253680\n"
     ]
    }
   ],
   "source": [
    "#reformatting\n",
    "part1.write.mode(\"overwrite\").parquet('part1.parquet')\n",
    "part1new = spark.read.parquet('part1.parquet')\n",
    "\n",
    "df4 = part1new.union(part2read)\n",
    "\n",
    "#getting number of rows and columns\n",
    "print(\"Number of columns:\", len(df4.columns))\n",
    "print(\"Number of rows:\", df4.count())"
   ]
  },
  {
   "cell_type": "code",
   "execution_count": 22,
   "id": "21697c34",
   "metadata": {},
   "outputs": [
    {
     "name": "stdout",
     "output_type": "stream",
     "text": [
      "+--------------------+------+\n",
      "|HeartDiseaseorAttack| count|\n",
      "+--------------------+------+\n",
      "|                   0|229787|\n",
      "|                   1| 23893|\n",
      "+--------------------+------+\n",
      "\n"
     ]
    }
   ],
   "source": [
    "counts_heartDis = df4.groupBy('HeartDiseaseorAttack').count()\n",
    "counts_heartDis.show()"
   ]
  },
  {
   "cell_type": "code",
   "execution_count": 23,
   "id": "cbea6ca5",
   "metadata": {},
   "outputs": [
    {
     "name": "stdout",
     "output_type": "stream",
     "text": [
      "+--------------------+-----+\n",
      "|HeartDiseaseorAttack|count|\n",
      "+--------------------+-----+\n",
      "|                   0|23893|\n",
      "|                   1|23893|\n",
      "+--------------------+-----+\n",
      "\n"
     ]
    },
    {
     "name": "stderr",
     "output_type": "stream",
     "text": [
      "\r",
      "[Stage 293:>                                                        (0 + 1) / 1]\r",
      "\r",
      "                                                                                \r"
     ]
    }
   ],
   "source": [
    "#balancing dataset\n",
    "from pyspark.sql import functions as F\n",
    "from pyspark.sql.window import Window\n",
    "grouped_df = df4.groupBy('HeartDiseaseorAttack')\n",
    "min_group_size = grouped_df.count().selectExpr('min(count) as min_count').collect()[0]['min_count']\n",
    "w = Window.partitionBy('HeartDiseaseorAttack').orderBy(F.monotonically_increasing_id())\n",
    "dfNewWithRowId = df4.withColumn('row_id', F.row_number().over(w))\n",
    "dfBalanced = dfNewWithRowId.filter(dfNewWithRowId['row_id'] <= min_group_size).drop('row_id')\n",
    "\n",
    "counts_heartDisBal = dfBalanced.groupBy('HeartDiseaseorAttack').count()\n",
    "counts_heartDisBal.show()"
   ]
  },
  {
   "cell_type": "code",
   "execution_count": 24,
   "id": "557be956",
   "metadata": {},
   "outputs": [
    {
     "data": {
      "image/png": "[encoded data removed]",
      "text/plain": [
       "<Figure size 432x288 with 1 Axes>"
      ]
     },
     "metadata": {
      "needs_background": "light"
     },
     "output_type": "display_data"
    }
   ],
   "source": [
    "#distribution chart of heart disease after balancing  \n",
    "category_counts = dfBalanced.groupBy('HeartDiseaseorAttack').count().toPandas()\n",
    "colors = ['green', 'darkred']\n",
    "plt.bar(category_counts['HeartDiseaseorAttack'].astype(str), category_counts['count'], color=colors)\n",
    "plt.xlabel('Heart Disease')\n",
    "plt.ylabel('Count')\n",
    "plt.title('Bar Chart of Heart Disease')\n",
    "plt.xticks(category_counts['HeartDiseaseorAttack'].astype(str), ['0', '1'])\n",
    "plt.show()"
   ]
  },
  {
   "cell_type": "markdown",
   "id": "bc0b1937",
   "metadata": {},
   "source": [
    "## 4. Data Transformation"
   ]
  },
  {
   "cell_type": "code",
   "execution_count": 25,
   "id": "1f282453",
   "metadata": {},
   "outputs": [
    {
     "name": "stderr",
     "output_type": "stream",
     "text": [
      "                                                                                \r"
     ]
    },
    {
     "name": "stdout",
     "output_type": "stream",
     "text": [
      "HeartDiseaseorAttack: ['0', '1']\n",
      "HighBP: ['0', '1']\n",
      "HighChol: ['0', '1']\n",
      "CholCheck: ['0', '1']\n",
      "BMI: [0]\n",
      "Smoker: ['0', '1']\n",
      "Stroke: ['0', '1']\n",
      "Diabetes: [0]\n",
      "PhysActivity: ['0', '1']\n",
      "Fruits: ['0', '1']\n",
      "Veggies: ['0', '1']\n",
      "HvyAlcoholConsump: ['0', '1']\n",
      "AnyHealthcare: ['0', '1']\n",
      "NoDocDueToCost: ['0', '1']\n",
      "GenHlth: [0]\n",
      "MentHlth: [0]\n",
      "PhysHlth: [0]\n",
      "DifficultyWalking: ['0', '1']\n",
      "Sex: [0]\n",
      "Age_category: ['7', '11', '3', '8', '5', '6', '9', '1', '10', '4', '12', '13', '2']\n"
     ]
    }
   ],
   "source": [
    "#converting text into integers\n",
    "from pyspark.sql.functions import lit\n",
    "BMI_to_int = {'Underweight': 0, 'Healthy': 1, 'Overweight': 2, 'Obese': 3}\n",
    "hlth_to_int = {'Good': 1, 'Normal': 2, 'Poor': 3}\n",
    "diab_to_int = {'Type 1': 1, 'Type 2': 2}\n",
    "sex_to_int = {'Male': 1, 'Female': 0}\n",
    "\n",
    "dfBalanced = dfBalanced.withColumn('BMI', lit(0))\n",
    "for category, mapping in BMI_to_int.items():\n",
    "    dfBalanced = dfBalanced.withColumn('BMI', when(dfBalanced['BMI'] == category, mapping).otherwise(dfBalanced['BMI']))\n",
    "for col in ['GenHlth', 'PhysHlth', 'MentHlth']:\n",
    "    dfBalanced = dfBalanced.withColumn(col, lit(0))\n",
    "    for category, mapping in hlth_to_int.items():\n",
    "        dfBalanced = dfBalanced.withColumn(col, when(dfBalanced[col] == category, mapping).otherwise(dfBalanced[col]))\n",
    "dfBalanced = dfBalanced.withColumn('Diabetes', lit(0))\n",
    "for category, mapping in diab_to_int.items():\n",
    "    dfBalanced = dfBalanced.withColumn('Diabetes', when(dfBalanced['Diabetes'] == category, mapping).otherwise(dfBalanced['Diabetes']))\n",
    "dfBalanced = dfBalanced.withColumn('Sex', lit(0))\n",
    "for category, mapping in sex_to_int.items():\n",
    "    dfBalanced = dfBalanced.withColumn('Sex', when(dfBalanced['Sex'] == category, mapping).otherwise(dfBalanced['Sex']))\n",
    "    \n",
    "for column in dfBalanced.columns:\n",
    "    unique_values = dfBalanced.select(column).distinct().rdd.map(lambda x: x[0]).collect()\n",
    "    print(f\"{column}: {unique_values}\")"
   ]
  },
  {
   "cell_type": "code",
   "execution_count": 26,
   "id": "8439faf5",
   "metadata": {},
   "outputs": [
    {
     "name": "stdout",
     "output_type": "stream",
     "text": [
      "root\n",
      " |-- HeartDiseaseorAttack: integer (nullable = true)\n",
      " |-- HighBP: integer (nullable = true)\n",
      " |-- HighChol: integer (nullable = true)\n",
      " |-- CholCheck: integer (nullable = true)\n",
      " |-- BMI: integer (nullable = false)\n",
      " |-- Smoker: integer (nullable = true)\n",
      " |-- Stroke: integer (nullable = true)\n",
      " |-- Diabetes: integer (nullable = false)\n",
      " |-- PhysActivity: integer (nullable = true)\n",
      " |-- Fruits: integer (nullable = true)\n",
      " |-- Veggies: integer (nullable = true)\n",
      " |-- HvyAlcoholConsump: integer (nullable = true)\n",
      " |-- AnyHealthcare: integer (nullable = true)\n",
      " |-- NoDocDueToCost: integer (nullable = true)\n",
      " |-- GenHlth: integer (nullable = false)\n",
      " |-- MentHlth: integer (nullable = false)\n",
      " |-- PhysHlth: integer (nullable = false)\n",
      " |-- DifficultyWalking: integer (nullable = true)\n",
      " |-- Sex: integer (nullable = false)\n",
      " |-- Age_category: integer (nullable = true)\n",
      "\n"
     ]
    }
   ],
   "source": [
    "#converting column data type to integer\n",
    "from pyspark.sql.types import IntegerType\n",
    "columns = dfBalanced.columns\n",
    "\n",
    "for col_name in columns:\n",
    "    dfBalanced = dfBalanced.withColumn(col_name, dfBalanced[col_name].cast(IntegerType()))\n",
    "\n",
    "dfBalanced.printSchema()"
   ]
  },
  {
   "cell_type": "code",
   "execution_count": 27,
   "id": "a5be04fa",
   "metadata": {},
   "outputs": [
    {
     "name": "stderr",
     "output_type": "stream",
     "text": [
      "[Stage 444:======================================>                  (2 + 1) / 3]\r"
     ]
    },
    {
     "name": "stdout",
     "output_type": "stream",
     "text": [
      "HighBP: 0.29922376252049054\n",
      "Age_category: 0.27377353020914125\n",
      "DifficultyWalking: 0.15433582923032285\n",
      "HighChol: 0.14683820336582412\n",
      "Stroke: 0.06763370677261588\n",
      "Smoker: 0.035793742600059\n",
      "PhysActivity: 0.016271521395811676\n",
      "CholCheck: 0.0021325141995746804\n",
      "HvyAlcoholConsump: 0.0012041195551334288\n",
      "Veggies: 0.0011117727116995951\n",
      "AnyHealthcare: 0.0007944693719468852\n",
      "NoDocDueToCost: 0.0007426167804838514\n",
      "Fruits: 0.00014421128689598453\n",
      "BMI: 0.0\n",
      "Diabetes: 0.0\n",
      "GenHlth: 0.0\n",
      "MentHlth: 0.0\n",
      "PhysHlth: 0.0\n",
      "Sex: 0.0\n"
     ]
    }
   ],
   "source": [
    "#feature selection algorithm\n",
    "df5 = dfBalanced\n",
    "df5 = df5.drop(\"features\")\n",
    "\n",
    "from pyspark.ml.feature import VectorAssembler, StringIndexer\n",
    "from pyspark.ml.classification import RandomForestClassifier\n",
    "\n",
    "features = [column for column in df5.columns if column != 'HeartDiseaseorAttack']\n",
    "\n",
    "assembler = VectorAssembler(inputCols=features, outputCol=\"features\")\n",
    "df5 = assembler.transform(df5)\n",
    "rf = RandomForestClassifier(featuresCol=\"features\", labelCol=\"HeartDiseaseorAttack\", numTrees=100)\n",
    "model = rf.fit(df5)\n",
    "feature_importance = model.featureImportances.toArray()\n",
    "feature_names = assembler.getInputCols()\n",
    "feature_importance_list = list(zip(feature_names, feature_importance))\n",
    "sorted_features = sorted(feature_importance_list, key=lambda x: -x[1])\n",
    "\n",
    "for feature, importance in sorted_features:\n",
    "    print(f'{feature}: {importance}')"
   ]
  },
  {
   "cell_type": "code",
   "execution_count": 28,
   "id": "3940581f",
   "metadata": {
    "scrolled": true
   },
   "outputs": [
    {
     "data": {
      "text/plain": [
       "['HeartDiseaseorAttack',\n",
       " 'HighBP',\n",
       " 'HighChol',\n",
       " 'CholCheck',\n",
       " 'BMI',\n",
       " 'Smoker',\n",
       " 'Stroke',\n",
       " 'Diabetes',\n",
       " 'PhysActivity',\n",
       " 'Fruits',\n",
       " 'Veggies',\n",
       " 'HvyAlcoholConsump',\n",
       " 'AnyHealthcare',\n",
       " 'NoDocDueToCost',\n",
       " 'DifficultyWalking',\n",
       " 'Age_category']"
      ]
     },
     "execution_count": 28,
     "metadata": {},
     "output_type": "execute_result"
    }
   ],
   "source": [
    "#dropping the columns\n",
    "columns_to_drop = [\"GenHlth\", \"MentHlth\", \"PhysHlth\", \"Sex\", 'features']\n",
    "\n",
    "dfFinal = dfBalanced.drop(*columns_to_drop)\n",
    "\n",
    "dfFinal.columns"
   ]
  },
  {
   "cell_type": "markdown",
   "id": "888f34ae",
   "metadata": {},
   "source": [
    "## 6. Data Mining Analysis"
   ]
  },
  {
   "cell_type": "code",
   "execution_count": 29,
   "id": "741c23d9",
   "metadata": {},
   "outputs": [],
   "source": [
    "from pyspark.ml.classification import DecisionTreeClassifier\n",
    "from pyspark.ml.evaluation import MulticlassClassificationEvaluator\n",
    "\n",
    "#preparing data\n",
    "df6 = dfFinal\n",
    "df6 = df6.drop('features')\n",
    "\n",
    "#removing target column\n",
    "features = [column for column in df6.columns if column != 'HeartDiseaseorAttack']\n",
    "\n",
    "#assemble features\n",
    "assembler = VectorAssembler(inputCols=features, outputCol=\"features\")\n",
    "df6 = assembler.transform(df6)\n",
    "\n",
    "#split the data into training and testing sets\n",
    "(training_data, testing_data) = df6.randomSplit([0.8, 0.2], seed=1234)"
   ]
  },
  {
   "cell_type": "code",
   "execution_count": 30,
   "id": "234db17f",
   "metadata": {},
   "outputs": [
    {
     "name": "stderr",
     "output_type": "stream",
     "text": [
      "23/10/12 12:47:39 WARN package: Truncated the string representation of a plan since it was too large. This behavior can be adjusted by setting 'spark.sql.debug.maxToStringFields'.\n",
      "[Stage 478:>                                                        (0 + 1) / 1]\r"
     ]
    },
    {
     "name": "stdout",
     "output_type": "stream",
     "text": [
      "Gini Accuracy: 0.7300523560209424\n",
      "Feature Rankings - \n",
      "HighBP: 0.4874402760429439\n",
      "Age_category: 0.28294937976553364\n",
      "DifficultyWalking: 0.10994913145098736\n",
      "HighChol: 0.08643806568315077\n",
      "Stroke: 0.02450703082009234\n",
      "Smoker: 0.008716116237292173\n",
      "CholCheck: 0.0\n",
      "BMI: 0.0\n",
      "Diabetes: 0.0\n",
      "PhysActivity: 0.0\n",
      "Fruits: 0.0\n",
      "Veggies: 0.0\n",
      "HvyAlcoholConsump: 0.0\n",
      "AnyHealthcare: 0.0\n",
      "NoDocDueToCost: 0.0\n"
     ]
    },
    {
     "name": "stderr",
     "output_type": "stream",
     "text": [
      "\r",
      "                                                                                \r"
     ]
    }
   ],
   "source": [
    "#gini tree\n",
    "dt = DecisionTreeClassifier(labelCol=\"HeartDiseaseorAttack\", featuresCol=\"features\", impurity='gini')\n",
    "dt_model = dt.fit(training_data)\n",
    "\n",
    "predictions = dt_model.transform(testing_data)\n",
    "\n",
    "evaluator = MulticlassClassificationEvaluator(labelCol=\"HeartDiseaseorAttack\", predictionCol=\"prediction\", metricName=\"accuracy\")\n",
    "accuracy = evaluator.evaluate(predictions)\n",
    "print(\"Gini Accuracy:\", accuracy)\n",
    "\n",
    "feature_importance = dt_model.featureImportances.toArray()\n",
    "feature_rankings_table = [(feature, importance) for feature, importance in zip(features, feature_importance)]\n",
    "feature_rankings_table.sort(key=lambda x: x[1], reverse=True)\n",
    "\n",
    "print(\"Feature Rankings - \")\n",
    "for feature, importance in feature_rankings_table:\n",
    "    print(f\"{feature}: {importance}\")"
   ]
  },
  {
   "cell_type": "code",
   "execution_count": 31,
   "id": "424a0db1",
   "metadata": {},
   "outputs": [
    {
     "name": "stderr",
     "output_type": "stream",
     "text": [
      "[Stage 510:======================================>                  (2 + 1) / 3]\r"
     ]
    },
    {
     "name": "stdout",
     "output_type": "stream",
     "text": [
      "Entropy Accuracy: 0.7294240837696335\n",
      "Feature Rankings - \n",
      "HighBP: 0.4461849721668044\n",
      "Age_category: 0.31655760007438205\n",
      "DifficultyWalking: 0.12641306941977312\n",
      "HighChol: 0.0837019153518395\n",
      "Stroke: 0.01929887178471421\n",
      "Smoker: 0.007843571202486762\n",
      "CholCheck: 0.0\n",
      "BMI: 0.0\n",
      "Diabetes: 0.0\n",
      "PhysActivity: 0.0\n",
      "Fruits: 0.0\n",
      "Veggies: 0.0\n",
      "HvyAlcoholConsump: 0.0\n",
      "AnyHealthcare: 0.0\n",
      "NoDocDueToCost: 0.0\n"
     ]
    },
    {
     "name": "stderr",
     "output_type": "stream",
     "text": [
      "\r",
      "[Stage 512:>                                                        (0 + 1) / 1]\r",
      "\r",
      "                                                                                \r"
     ]
    }
   ],
   "source": [
    "#entropy tree\n",
    "dt = DecisionTreeClassifier(labelCol=\"HeartDiseaseorAttack\", featuresCol=\"features\", impurity='entropy')\n",
    "dt_model = dt.fit(training_data)\n",
    "\n",
    "predictions = dt_model.transform(testing_data)\n",
    "\n",
    "evaluator = MulticlassClassificationEvaluator(labelCol=\"HeartDiseaseorAttack\", predictionCol=\"prediction\", metricName=\"accuracy\")\n",
    "accuracy = evaluator.evaluate(predictions)\n",
    "print(\"Entropy Accuracy:\", accuracy)\n",
    "\n",
    "feature_importance = dt_model.featureImportances.toArray()\n",
    "feature_rankings_table = [(feature, importance) for feature, importance in zip(features, feature_importance)]\n",
    "feature_rankings_table.sort(key=lambda x: x[1], reverse=True)\n",
    "\n",
    "print(\"Feature Rankings - \")\n",
    "for feature, importance in feature_rankings_table:\n",
    "    print(f\"{feature}: {importance}\")"
   ]
  },
  {
   "cell_type": "code",
   "execution_count": 32,
   "id": "1625934c",
   "metadata": {},
   "outputs": [
    {
     "name": "stderr",
     "output_type": "stream",
     "text": [
      "                                                                                \r"
     ]
    },
    {
     "name": "stdout",
     "output_type": "stream",
     "text": [
      "Accuracy with max_depth: 3 :  0.7058638743455498\n"
     ]
    },
    {
     "name": "stderr",
     "output_type": "stream",
     "text": [
      "                                                                                \r"
     ]
    },
    {
     "name": "stdout",
     "output_type": "stream",
     "text": [
      "Accuracy with max_depth: 4 :  0.7234554973821989\n"
     ]
    },
    {
     "name": "stderr",
     "output_type": "stream",
     "text": [
      "                                                                                \r"
     ]
    },
    {
     "name": "stdout",
     "output_type": "stream",
     "text": [
      "Accuracy with max_depth: 5 :  0.7300523560209424\n"
     ]
    },
    {
     "name": "stderr",
     "output_type": "stream",
     "text": [
      "                                                                                \r"
     ]
    },
    {
     "name": "stdout",
     "output_type": "stream",
     "text": [
      "Accuracy with max_depth: 6 :  0.7390575916230366\n"
     ]
    },
    {
     "name": "stderr",
     "output_type": "stream",
     "text": [
      "                                                                                \r"
     ]
    },
    {
     "name": "stdout",
     "output_type": "stream",
     "text": [
      "Accuracy with max_depth: 7 :  0.7429319371727748\n"
     ]
    },
    {
     "name": "stderr",
     "output_type": "stream",
     "text": [
      "                                                                                \r"
     ]
    },
    {
     "name": "stdout",
     "output_type": "stream",
     "text": [
      "Accuracy with max_depth: 8 :  0.7420942408376964\n"
     ]
    },
    {
     "name": "stderr",
     "output_type": "stream",
     "text": [
      "[Stage 769:======================================>                  (2 + 1) / 3]\r"
     ]
    },
    {
     "name": "stdout",
     "output_type": "stream",
     "text": [
      "Accuracy with max_depth: 9 :  0.7419895287958115\n"
     ]
    },
    {
     "name": "stderr",
     "output_type": "stream",
     "text": [
      "                                                                                \r"
     ]
    },
    {
     "name": "stdout",
     "output_type": "stream",
     "text": [
      "Accuracy with max_depth: 10 :  0.7385340314136125\n"
     ]
    }
   ],
   "source": [
    "#tuning max depth\n",
    "for i in range(3, 11):\n",
    "    dt = DecisionTreeClassifier(labelCol=\"HeartDiseaseorAttack\", featuresCol=\"features\", impurity='gini', maxDepth=i)\n",
    "    dt_model = dt.fit(training_data)\n",
    "    predictions = dt_model.transform(testing_data)\n",
    "    evaluator = MulticlassClassificationEvaluator(labelCol=\"HeartDiseaseorAttack\", predictionCol=\"prediction\", metricName=\"accuracy\")\n",
    "    accuracy = evaluator.evaluate(predictions)\n",
    "    print(\"Accuracy with max_depth:\", i, \": \", accuracy)"
   ]
  },
  {
   "cell_type": "code",
   "execution_count": 33,
   "id": "f223bdb8",
   "metadata": {},
   "outputs": [
    {
     "name": "stderr",
     "output_type": "stream",
     "text": [
      "[Stage 1133:=====================================>                  (2 + 1) / 3]\r"
     ]
    },
    {
     "name": "stdout",
     "output_type": "stream",
     "text": [
      "minInstancesPerNode: 5\n",
      "minInfoGain: 0.0\n"
     ]
    },
    {
     "name": "stderr",
     "output_type": "stream",
     "text": [
      "\r",
      "                                                                                \r"
     ]
    }
   ],
   "source": [
    "#tuning Min Instances Per Node and Min Info Gain\n",
    "from pyspark.ml import Pipeline\n",
    "from pyspark.ml.tuning import ParamGridBuilder\n",
    "from pyspark.ml.evaluation import BinaryClassificationEvaluator\n",
    "\n",
    "dt = DecisionTreeClassifier(featuresCol='features', labelCol='HeartDiseaseorAttack', impurity='gini', maxDepth=6)\n",
    "param_grid = ParamGridBuilder() \\\n",
    "    .addGrid(dt.minInstancesPerNode, [5, 10, 15]) \\\n",
    "    .addGrid(dt.minInfoGain, [0.0, 0.1, 0.2]) \\\n",
    "    .build()\n",
    "pipeline = Pipeline(stages=[dt])\n",
    "\n",
    "evaluator = BinaryClassificationEvaluator()\n",
    "\n",
    "best_model = None\n",
    "best_auc = 0.0\n",
    "\n",
    "for params in param_grid:\n",
    "    model = pipeline.fit(training_data, params=params)\n",
    "    predictions = model.transform(testing_data)\n",
    "    auc = evaluator.evaluate(predictions, {evaluator.metricName: \"areaUnderROC\", evaluator.labelCol: \"HeartDiseaseorAttack\"})\n",
    "    \n",
    "    if auc > best_auc:\n",
    "        best_auc = auc\n",
    "        best_model = model\n",
    "        \n",
    "best_params = best_model.stages[-1].extractParamMap()\n",
    "min_instances_per_node = best_params[dt.minInstancesPerNode]\n",
    "min_info_gain = best_params[dt.minInfoGain]\n",
    "\n",
    "print(\"minInstancesPerNode:\", min_instances_per_node)\n",
    "print(\"minInfoGain:\", min_info_gain)"
   ]
  },
  {
   "cell_type": "code",
   "execution_count": 34,
   "id": "9694d1d0",
   "metadata": {},
   "outputs": [
    {
     "name": "stderr",
     "output_type": "stream",
     "text": [
      "                                                                                \r"
     ]
    },
    {
     "name": "stdout",
     "output_type": "stream",
     "text": [
      "Final model Accuracy: 0.7389528795811519\n"
     ]
    }
   ],
   "source": [
    "#testing tuned parameters\n",
    "dt = DecisionTreeClassifier(featuresCol='features', labelCol='HeartDiseaseorAttack', \n",
    "                            impurity='gini', maxDepth=6, minInstancesPerNode=5, minInfoGain=0.0)\n",
    "dt_model = dt.fit(training_data)\n",
    "\n",
    "predictions = dt_model.transform(testing_data)\n",
    "\n",
    "evaluator = MulticlassClassificationEvaluator(labelCol=\"HeartDiseaseorAttack\", predictionCol=\"prediction\", metricName=\"accuracy\")\n",
    "accuracy = evaluator.evaluate(predictions)\n",
    "print(\"Final model Accuracy:\", accuracy)"
   ]
  },
  {
   "cell_type": "markdown",
   "id": "a173dc90",
   "metadata": {},
   "source": [
    "## 7. Data Mining"
   ]
  },
  {
   "cell_type": "code",
   "execution_count": 35,
   "id": "61ce6ad8",
   "metadata": {},
   "outputs": [
    {
     "name": "stderr",
     "output_type": "stream",
     "text": [
      "[Stage 1216:=====================================>                  (2 + 1) / 3]\r"
     ]
    },
    {
     "name": "stdout",
     "output_type": "stream",
     "text": [
      "Final model Accuracy: 0.7390575916230366\n"
     ]
    },
    {
     "name": "stderr",
     "output_type": "stream",
     "text": [
      "\r",
      "                                                                                \r"
     ]
    }
   ],
   "source": [
    "#building final model\n",
    "dt = DecisionTreeClassifier(featuresCol='features', labelCol='HeartDiseaseorAttack', impurity='gini', maxDepth=6)\n",
    "dt_final = dt.fit(training_data)\n",
    "\n",
    "predictions = dt_final.transform(testing_data)\n",
    "\n",
    "evaluator = MulticlassClassificationEvaluator(labelCol=\"HeartDiseaseorAttack\", predictionCol=\"prediction\", metricName=\"accuracy\")\n",
    "accuracy = evaluator.evaluate(predictions)\n",
    "print(\"Final model Accuracy:\", accuracy)"
   ]
  },
  {
   "cell_type": "code",
   "execution_count": 36,
   "id": "94ac34e6",
   "metadata": {},
   "outputs": [],
   "source": [
    "tree_rules = dt_final.toDebugString\n",
    "tree_rules_array = tree_rules.split('\\n')"
   ]
  },
  {
   "cell_type": "code",
   "execution_count": 37,
   "id": "b682eaad",
   "metadata": {},
   "outputs": [
    {
     "name": "stdout",
     "output_type": "stream",
     "text": [
      "DecisionTreeClassificationModel: uid=DecisionTreeClassifier_848c96644a6c, depth=6, numNodes=69, numClasses=2, numFeatures=15\n",
      "  If (HighBP <= 0.5)\n",
      "   If (Age_category <= 8.5)\n",
      "    If (DifficultyWalking <= 0.5)\n",
      "     If (Stroke <= 0.5)\n",
      "      Predict: 0.0\n",
      "     Else (Stroke > 0.5)\n",
      "      Predict: 1.0\n",
      "    Else (DifficultyWalking > 0.5)\n",
      "     If (Stroke <= 0.5)\n",
      "      If (HighChol <= 0.5)\n",
      "       Predict: 0.0\n",
      "      Else (HighChol > 0.5)\n",
      "       If (Age_category <= 6.5)\n",
      "        Predict: 0.0\n",
      "       Else (Age_category > 6.5)\n",
      "        Predict: 1.0\n",
      "     Else (Stroke > 0.5)\n",
      "      Predict: 1.0\n",
      "   Else (Age_category > 8.5)\n",
      "    If (Age_category <= 10.5)\n",
      "     If (DifficultyWalking <= 0.5)\n",
      "      If (HighChol <= 0.5)\n",
      "       If (Stroke <= 0.5)\n",
      "        Predict: 0.0\n",
      "       Else (Stroke > 0.5)\n",
      "        Predict: 1.0\n",
      "      Else (HighChol > 0.5)\n",
      "       If (Stroke <= 0.5)\n",
      "        Predict: 0.0\n",
      "       Else (Stroke > 0.5)\n",
      "        Predict: 1.0\n",
      "     Else (DifficultyWalking > 0.5)\n",
      "      If (Smoker <= 0.5)\n",
      "       If (Stroke <= 0.5)\n",
      "        Predict: 0.0\n",
      "       Else (Stroke > 0.5)\n",
      "        Predict: 1.0\n",
      "      Else (Smoker > 0.5)\n",
      "       Predict: 1.0\n",
      "    Else (Age_category > 10.5)\n",
      "     If (DifficultyWalking <= 0.5)\n",
      "      If (Stroke <= 0.5)\n",
      "       If (Smoker <= 0.5)\n",
      "        Predict: 0.0\n",
      "       Else (Smoker > 0.5)\n",
      "        Predict: 1.0\n",
      "      Else (Stroke > 0.5)\n",
      "       Predict: 1.0\n",
      "     Else (DifficultyWalking > 0.5)\n",
      "      If (Stroke <= 0.5)\n",
      "       If (HvyAlcoholConsump <= 0.5)\n",
      "        Predict: 1.0\n",
      "       Else (HvyAlcoholConsump > 0.5)\n",
      "        Predict: 0.0\n",
      "      Else (Stroke > 0.5)\n",
      "       Predict: 1.0\n",
      "  Else (HighBP > 0.5)\n",
      "   If (HighChol <= 0.5)\n",
      "    If (Age_category <= 9.5)\n",
      "     If (DifficultyWalking <= 0.5)\n",
      "      If (Stroke <= 0.5)\n",
      "       Predict: 0.0\n",
      "      Else (Stroke > 0.5)\n",
      "       If (Age_category <= 5.5)\n",
      "        Predict: 0.0\n",
      "       Else (Age_category > 5.5)\n",
      "        Predict: 1.0\n",
      "     Else (DifficultyWalking > 0.5)\n",
      "      If (Stroke <= 0.5)\n",
      "       If (Age_category <= 5.5)\n",
      "        Predict: 0.0\n",
      "       Else (Age_category > 5.5)\n",
      "        Predict: 1.0\n",
      "      Else (Stroke > 0.5)\n",
      "       Predict: 1.0\n",
      "    Else (Age_category > 9.5)\n",
      "     If (DifficultyWalking <= 0.5)\n",
      "      If (Stroke <= 0.5)\n",
      "       If (Age_category <= 11.5)\n",
      "        Predict: 0.0\n",
      "       Else (Age_category > 11.5)\n",
      "        Predict: 1.0\n",
      "      Else (Stroke > 0.5)\n",
      "       If (CholCheck <= 0.5)\n",
      "        Predict: 0.0\n",
      "       Else (CholCheck > 0.5)\n",
      "        Predict: 1.0\n",
      "     Else (DifficultyWalking > 0.5)\n",
      "      Predict: 1.0\n",
      "   Else (HighChol > 0.5)\n",
      "    If (DifficultyWalking <= 0.5)\n",
      "     If (Age_category <= 8.5)\n",
      "      If (Smoker <= 0.5)\n",
      "       If (Stroke <= 0.5)\n",
      "        Predict: 0.0\n",
      "       Else (Stroke > 0.5)\n",
      "        Predict: 1.0\n",
      "      Else (Smoker > 0.5)\n",
      "       Predict: 1.0\n",
      "     Else (Age_category > 8.5)\n",
      "      Predict: 1.0\n",
      "    Else (DifficultyWalking > 0.5)\n",
      "     Predict: 1.0\n",
      "\n"
     ]
    }
   ],
   "source": [
    "feature_names = assembler.getInputCols()\n",
    "feature_mapping = {f'feature {i}': feature_names[i] for i in range(len(features))}\n",
    "\n",
    "import re\n",
    "def replace_feature_names(rule):\n",
    "    for feature_id, feature_name in feature_mapping.items():\n",
    "        rule = re.sub(r'\\b' + feature_id + r'\\b', feature_name, rule)\n",
    "    return rule\n",
    "\n",
    "updated_rules = [replace_feature_names(rule) for rule in tree_rules_array]\n",
    "\n",
    "for rule in updated_rules:\n",
    "    print(rule)"
   ]
  },
  {
   "cell_type": "markdown",
   "id": "f2a75e9e",
   "metadata": {},
   "source": [
    "## 8. Interpretation"
   ]
  },
  {
   "cell_type": "code",
   "execution_count": 38,
   "id": "000c97f0",
   "metadata": {},
   "outputs": [],
   "source": [
    "#function for generating graphs\n",
    "import matplotlib.pyplot as plt\n",
    "import numpy as np\n",
    "from pyspark.sql import functions as F\n",
    "\n",
    "def createGraph(attribute):\n",
    "    disease_present = dfBalanced.filter(dfBalanced['HeartDiseaseorAttack'] == 1).select(attribute).rdd.flatMap(lambda x: x).collect()\n",
    "    disease_absent = dfBalanced.filter(dfBalanced['HeartDiseaseorAttack'] == 0).select(attribute).rdd.flatMap(lambda x: x).collect()\n",
    "\n",
    "    fig, ax = plt.subplots()\n",
    "    bins = np.arange(min(disease_present + disease_absent) - 0.5, max(disease_present + disease_absent) + 1.5, 1)\n",
    "\n",
    "    ax.hist([disease_present, disease_absent], bins=bins, width=0.4, color=['darkred', 'green'],\n",
    "            edgecolor='black', label=['Positive', 'Negative'])\n",
    "\n",
    "    ax.set_xlabel(attribute)\n",
    "    ax.set_ylabel('Frequency')\n",
    "    ax.legend()\n",
    "\n",
    "    plt.show()\n"
   ]
  },
  {
   "cell_type": "code",
   "execution_count": 39,
   "id": "41e2bb34",
   "metadata": {},
   "outputs": [
    {
     "data": {
      "image/png": "[encoded data removed]",
      "text/plain": [
       "<Figure size 432x288 with 1 Axes>"
      ]
     },
     "metadata": {
      "needs_background": "light"
     },
     "output_type": "display_data"
    },
    {
     "data": {
      "image/png": "[encoded data removed]",
      "text/plain": [
       "<Figure size 432x288 with 1 Axes>"
      ]
     },
     "metadata": {
      "needs_background": "light"
     },
     "output_type": "display_data"
    },
    {
     "data": {
      "image/png": "[encoded data removed]",
      "text/plain": [
       "<Figure size 432x288 with 1 Axes>"
      ]
     },
     "metadata": {
      "needs_background": "light"
     },
     "output_type": "display_data"
    },
    {
     "data": {
      "image/png": "[encoded data removed]",
      "text/plain": [
       "<Figure size 432x288 with 1 Axes>"
      ]
     },
     "metadata": {
      "needs_background": "light"
     },
     "output_type": "display_data"
    }
   ],
   "source": [
    "createGraph('Age_category')\n",
    "createGraph('HighBP')\n",
    "createGraph('Stroke')\n",
    "createGraph('DifficultyWalking')"
   ]
  },
  {
   "cell_type": "code",
   "execution_count": 40,
   "id": "6ce432d2",
   "metadata": {},
   "outputs": [
    {
     "name": "stderr",
     "output_type": "stream",
     "text": [
      "[Stage 1277:=====================================>                  (2 + 1) / 3]\r"
     ]
    },
    {
     "name": "stdout",
     "output_type": "stream",
     "text": [
      "Model Accuracy with training data 70/30: 0.7369853454291696\n"
     ]
    },
    {
     "name": "stderr",
     "output_type": "stream",
     "text": [
      "\r",
      "[Stage 1279:>                                                       (0 + 1) / 1]\r",
      "\r",
      "                                                                                \r"
     ]
    }
   ],
   "source": [
    "#iterations\n",
    "#training set as 70/30\n",
    "(training_data2, testing_data2) = df6.randomSplit([0.7, 0.3], seed=1234)\n",
    "\n",
    "dt = DecisionTreeClassifier(featuresCol='features', labelCol='HeartDiseaseorAttack', impurity='gini', maxDepth=6)\n",
    "dt_final = dt.fit(training_data2)\n",
    "\n",
    "predictions = dt_final.transform(testing_data2)\n",
    "\n",
    "evaluator = MulticlassClassificationEvaluator(labelCol=\"HeartDiseaseorAttack\", predictionCol=\"prediction\", metricName=\"accuracy\")\n",
    "accuracy = evaluator.evaluate(predictions)\n",
    "print(\"Model Accuracy with training data 70/30:\", accuracy)"
   ]
  },
  {
   "cell_type": "code",
   "execution_count": 41,
   "id": "f5aab036",
   "metadata": {},
   "outputs": [
    {
     "name": "stderr",
     "output_type": "stream",
     "text": [
      "[Stage 1320:=====================================>                  (2 + 1) / 3]\r"
     ]
    },
    {
     "name": "stdout",
     "output_type": "stream",
     "text": [
      "Model Accuracy with depth 8: 0.7395673412421493\n"
     ]
    },
    {
     "name": "stderr",
     "output_type": "stream",
     "text": [
      "\r",
      "                                                                                \r"
     ]
    }
   ],
   "source": [
    "#iterations\n",
    "#max depth as 8\n",
    "dt = DecisionTreeClassifier(featuresCol='features', labelCol='HeartDiseaseorAttack', impurity='gini', maxDepth=8)\n",
    "dt_final = dt.fit(training_data2)\n",
    "\n",
    "predictions = dt_final.transform(testing_data2)\n",
    "\n",
    "evaluator = MulticlassClassificationEvaluator(labelCol=\"HeartDiseaseorAttack\", predictionCol=\"prediction\", metricName=\"accuracy\")\n",
    "accuracy = evaluator.evaluate(predictions)\n",
    "print(\"Model Accuracy with depth 8:\", accuracy)"
   ]
  }
 ],
 "metadata": {
  "kernelspec": {
   "display_name": "Python 3 (ipykernel)",
   "language": "python",
   "name": "python3"
  },
  "language_info": {
   "codemirror_mode": {
    "name": "ipython",
    "version": 3
   },
   "file_extension": ".py",
   "mimetype": "text/x-python",
   "name": "python",
   "nbconvert_exporter": "python",
   "pygments_lexer": "ipython3",
   "version": "3.10.12"
  }
 },
 "nbformat": 4,
 "nbformat_minor": 5
}
